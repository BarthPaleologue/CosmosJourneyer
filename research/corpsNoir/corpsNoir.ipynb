{
 "cells": [
  {
   "cell_type": "markdown",
   "metadata": {},
   "source": [
    "<h1>Rayonnement de Corps Noir</h1>"
   ]
  },
  {
   "cell_type": "markdown",
   "metadata": {},
   "source": [
    "This file is part of CosmosJourneyer\n",
    "\n",
    "Copyright (C) 2024 Barthélemy Paléologue <barth.paleologue@cosmosjourneyer.com>\n",
    "\n",
    "This program is free software: you can redistribute it and/or modify\n",
    "it under the terms of the GNU General Public License as published by\n",
    "the Free Software Foundation, either version 3 of the License, or\n",
    "(at your option) any later version.\n",
    "\n",
    "This program is distributed in the hope that it will be useful,\n",
    "but WITHOUT ANY WARRANTY; without even the implied warranty of\n",
    "MERCHANTABILITY or FITNESS FOR A PARTICULAR PURPOSE.  See the\n",
    "GNU General Public License for more details.\n",
    "\n",
    "You should have received a copy of the GNU General Public License\n",
    "along with this program.  If not, see <https://www.gnu.org/licenses/>.\n"
   ]
  },
  {
   "cell_type": "code",
   "execution_count": 2,
   "metadata": {},
   "outputs": [],
   "source": [
    "from sympy import Symbol, Function, exp"
   ]
  },
  {
   "cell_type": "code",
   "execution_count": 10,
   "metadata": {},
   "outputs": [],
   "source": [
    "f = Symbol('f')\n",
    "c = Symbol('c')\n",
    "T = Symbol('T')\n",
    "h = Symbol('h')\n",
    "k = Symbol('k')\n",
    "λ = Symbol('λ')"
   ]
  },
  {
   "cell_type": "code",
   "execution_count": 11,
   "metadata": {},
   "outputs": [
    {
     "data": {
      "text/latex": [
       "$\\displaystyle \\frac{2 c h}{λ^{2} \\left(e^{\\frac{c h}{T k λ}} - 1\\right)}$"
      ],
      "text/plain": [
       "2*c*h/(λ**2*(exp(c*h/(T*k*λ)) - 1))"
      ]
     },
     "execution_count": 11,
     "metadata": {},
     "output_type": "execute_result"
    }
   ],
   "source": [
    "B = ((2 * h * c) / (λ*λ)) * 1 / (exp(h*c / (k*T*λ)) - 1)\n",
    "B"
   ]
  },
  {
   "cell_type": "code",
   "execution_count": 8,
   "metadata": {},
   "outputs": [
    {
     "data": {
      "text/latex": [
       "$\\displaystyle \\frac{2 h \\int \\frac{f^{3}}{e^{\\frac{f h}{T k}} - 1}\\, df}{c^{2}}$"
      ],
      "text/plain": [
       "2*h*Integral(f**3/(exp(f*h/(T*k)) - 1), f)/c**2"
      ]
     },
     "execution_count": 8,
     "metadata": {},
     "output_type": "execute_result"
    }
   ],
   "source": [
    "B.integrate(f).simplify()"
   ]
  },
  {
   "cell_type": "markdown",
   "metadata": {},
   "source": [
    "On ne peut donc pas calculer explicitement l'intégrale du rayonnement de corps noir."
   ]
  },
  {
   "cell_type": "code",
   "execution_count": null,
   "metadata": {},
   "outputs": [],
   "source": []
  }
 ],
 "metadata": {
  "interpreter": {
   "hash": "ce2aa0c446ec2f7179d7ab12c1c414b256b3fb84bcfcbf881a97db06cf4bb376"
  },
  "kernelspec": {
   "display_name": "Python 3.7.7 64-bit ('motivation': venv)",
   "language": "python",
   "name": "python3"
  },
  "language_info": {
   "codemirror_mode": {
    "name": "ipython",
    "version": 3
   },
   "file_extension": ".py",
   "mimetype": "text/x-python",
   "name": "python",
   "nbconvert_exporter": "python",
   "pygments_lexer": "ipython3",
   "version": "3.7.7"
  },
  "orig_nbformat": 4
 },
 "nbformat": 4,
 "nbformat_minor": 2
}
