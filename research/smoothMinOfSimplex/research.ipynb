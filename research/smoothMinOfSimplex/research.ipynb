{
 "cells": [
  {
   "cell_type": "markdown",
   "metadata": {},
   "source": [
    "<h1>Calcul du gradient du minimum lissé entre deux fonctions de R³->R différentiables</h1>"
   ]
  },
  {
   "cell_type": "code",
   "execution_count": 2,
   "metadata": {},
   "outputs": [],
   "source": [
    "import sympy as sym\n",
    "from sympy import Symbol, Function, exp, ln"
   ]
  },
  {
   "cell_type": "markdown",
   "metadata": {},
   "source": [
    "Soient u et v deux fonctions de R³ dans R différentiables des variables (x,y,z)"
   ]
  },
  {
   "cell_type": "code",
   "execution_count": 3,
   "metadata": {},
   "outputs": [],
   "source": [
    "x = Symbol('x')\n",
    "y = Symbol('y')\n",
    "z = Symbol('z')"
   ]
  },
  {
   "cell_type": "code",
   "execution_count": 4,
   "metadata": {},
   "outputs": [],
   "source": [
    "u = Function('u')(x, y, z)\n",
    "v = Function('v')(x, y, z)"
   ]
  },
  {
   "cell_type": "code",
   "execution_count": 5,
   "metadata": {},
   "outputs": [
    {
     "data": {
      "text/latex": [
       "$\\displaystyle - \\frac{\\log{\\left(e^{- k v{\\left(x,y,z \\right)}} + e^{- k u{\\left(x,y,z \\right)}} \\right)}}{k}$"
      ],
      "text/plain": [
       "-log(exp(-k*v(x, y, z)) + exp(-k*u(x, y, z)))/k"
      ]
     },
     "execution_count": 5,
     "metadata": {},
     "output_type": "execute_result"
    }
   ],
   "source": [
    "k = Symbol('k') # k est le paramètre de lissage\n",
    "\n",
    "s = -ln(exp(-k*u) + exp(-k*v)) / k\n",
    "\n",
    "s"
   ]
  },
  {
   "cell_type": "markdown",
   "metadata": {},
   "source": [
    "<h2>Calcul du gradient coordonnée par coordonnée :</h2>"
   ]
  },
  {
   "cell_type": "code",
   "execution_count": 6,
   "metadata": {},
   "outputs": [
    {
     "data": {
      "text/latex": [
       "$\\displaystyle \\frac{e^{k u{\\left(x,y,z \\right)}} \\frac{\\partial}{\\partial x} v{\\left(x,y,z \\right)} + e^{k v{\\left(x,y,z \\right)}} \\frac{\\partial}{\\partial x} u{\\left(x,y,z \\right)}}{e^{k u{\\left(x,y,z \\right)}} + e^{k v{\\left(x,y,z \\right)}}}$"
      ],
      "text/plain": [
       "(exp(k*u(x, y, z))*Derivative(v(x, y, z), x) + exp(k*v(x, y, z))*Derivative(u(x, y, z), x))/(exp(k*u(x, y, z)) + exp(k*v(x, y, z)))"
      ]
     },
     "execution_count": 6,
     "metadata": {},
     "output_type": "execute_result"
    }
   ],
   "source": [
    "s.diff(x).simplify()"
   ]
  },
  {
   "cell_type": "code",
   "execution_count": 7,
   "metadata": {},
   "outputs": [
    {
     "data": {
      "text/latex": [
       "$\\displaystyle \\frac{e^{k u{\\left(x,y,z \\right)}} \\frac{\\partial}{\\partial y} v{\\left(x,y,z \\right)} + e^{k v{\\left(x,y,z \\right)}} \\frac{\\partial}{\\partial y} u{\\left(x,y,z \\right)}}{e^{k u{\\left(x,y,z \\right)}} + e^{k v{\\left(x,y,z \\right)}}}$"
      ],
      "text/plain": [
       "(exp(k*u(x, y, z))*Derivative(v(x, y, z), y) + exp(k*v(x, y, z))*Derivative(u(x, y, z), y))/(exp(k*u(x, y, z)) + exp(k*v(x, y, z)))"
      ]
     },
     "execution_count": 7,
     "metadata": {},
     "output_type": "execute_result"
    }
   ],
   "source": [
    "s.diff(y).simplify()"
   ]
  },
  {
   "cell_type": "code",
   "execution_count": 8,
   "metadata": {},
   "outputs": [
    {
     "data": {
      "text/latex": [
       "$\\displaystyle \\frac{e^{k u{\\left(x,y,z \\right)}} \\frac{\\partial}{\\partial z} v{\\left(x,y,z \\right)} + e^{k v{\\left(x,y,z \\right)}} \\frac{\\partial}{\\partial z} u{\\left(x,y,z \\right)}}{e^{k u{\\left(x,y,z \\right)}} + e^{k v{\\left(x,y,z \\right)}}}$"
      ],
      "text/plain": [
       "(exp(k*u(x, y, z))*Derivative(v(x, y, z), z) + exp(k*v(x, y, z))*Derivative(u(x, y, z), z))/(exp(k*u(x, y, z)) + exp(k*v(x, y, z)))"
      ]
     },
     "execution_count": 8,
     "metadata": {},
     "output_type": "execute_result"
    }
   ],
   "source": [
    "\n",
    "s.diff(z).simplify()"
   ]
  }
 ],
 "metadata": {
  "interpreter": {
   "hash": "31f2aee4e71d21fbe5cf8b01ff0e069b9275f58929596ceb00d14d90e3e16cd6"
  },
  "kernelspec": {
   "display_name": "Python 3.8.10 64-bit",
   "language": "python",
   "name": "python3"
  },
  "language_info": {
   "codemirror_mode": {
    "name": "ipython",
    "version": 3
   },
   "file_extension": ".py",
   "mimetype": "text/x-python",
   "name": "python",
   "nbconvert_exporter": "python",
   "pygments_lexer": "ipython3",
   "version": "3.8.10"
  },
  "orig_nbformat": 4
 },
 "nbformat": 4,
 "nbformat_minor": 2
}
