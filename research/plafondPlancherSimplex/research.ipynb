{
 "cells": [
  {
   "cell_type": "markdown",
   "metadata": {},
   "source": [
    "<h1>Plafonnage et Seuillage d'une fonction de R³ dans R différentiable par minimum et maximum lissé</h1>"
   ]
  },
  {
   "cell_type": "code",
   "execution_count": 4,
   "metadata": {},
   "outputs": [],
   "source": [
    "from sympy import Symbol, Function, exp, ln"
   ]
  },
  {
   "cell_type": "markdown",
   "metadata": {},
   "source": [
    "Soit u une fonction de R³ dans R des variables (x,y,z), soit p un plafond ou plancher réel selon le contexte."
   ]
  },
  {
   "cell_type": "code",
   "execution_count": 5,
   "metadata": {},
   "outputs": [
    {
     "data": {
      "text/latex": [
       "$\\displaystyle u{\\left(x,y,z \\right)}$"
      ],
      "text/plain": [
       "u(x, y, z)"
      ]
     },
     "execution_count": 5,
     "metadata": {},
     "output_type": "execute_result"
    }
   ],
   "source": [
    "x = Symbol('x')\n",
    "y = Symbol('y')\n",
    "z = Symbol('z')\n",
    "p = Symbol('p')\n",
    "k = Symbol('k')\n",
    "\n",
    "u = Function('u')(x, y, z)\n",
    "\n",
    "u"
   ]
  },
  {
   "cell_type": "markdown",
   "metadata": {},
   "source": [
    "<h2>Plafonnement</h2>"
   ]
  },
  {
   "cell_type": "markdown",
   "metadata": {},
   "source": [
    "Soit sp la fonction de plafonnement, de R³ dans R également :"
   ]
  },
  {
   "cell_type": "code",
   "execution_count": 6,
   "metadata": {},
   "outputs": [
    {
     "data": {
      "text/latex": [
       "$\\displaystyle - \\frac{\\log{\\left(e^{- k u{\\left(x,y,z \\right)}} + e^{- k p} \\right)}}{k}$"
      ],
      "text/plain": [
       "-log(exp(-k*u(x, y, z)) + exp(-k*p))/k"
      ]
     },
     "execution_count": 6,
     "metadata": {},
     "output_type": "execute_result"
    }
   ],
   "source": [
    "sp = -ln(exp(-k*u) + exp(-k*p)) / k\n",
    "sp"
   ]
  },
  {
   "cell_type": "markdown",
   "metadata": {},
   "source": [
    "<h3>Calcul du gradient coordonnée par coordonnée :</h3>"
   ]
  },
  {
   "cell_type": "code",
   "execution_count": 7,
   "metadata": {},
   "outputs": [
    {
     "data": {
      "text/latex": [
       "$\\displaystyle \\frac{e^{k p} \\frac{\\partial}{\\partial x} u{\\left(x,y,z \\right)}}{e^{k p} + e^{k u{\\left(x,y,z \\right)}}}$"
      ],
      "text/plain": [
       "exp(k*p)*Derivative(u(x, y, z), x)/(exp(k*p) + exp(k*u(x, y, z)))"
      ]
     },
     "execution_count": 7,
     "metadata": {},
     "output_type": "execute_result"
    }
   ],
   "source": [
    "sp.diff(x).simplify()"
   ]
  },
  {
   "cell_type": "code",
   "execution_count": 8,
   "metadata": {},
   "outputs": [
    {
     "data": {
      "text/latex": [
       "$\\displaystyle \\frac{e^{k p} \\frac{\\partial}{\\partial y} u{\\left(x,y,z \\right)}}{e^{k p} + e^{k u{\\left(x,y,z \\right)}}}$"
      ],
      "text/plain": [
       "exp(k*p)*Derivative(u(x, y, z), y)/(exp(k*p) + exp(k*u(x, y, z)))"
      ]
     },
     "execution_count": 8,
     "metadata": {},
     "output_type": "execute_result"
    }
   ],
   "source": [
    "sp.diff(y).simplify()"
   ]
  },
  {
   "cell_type": "code",
   "execution_count": 9,
   "metadata": {},
   "outputs": [
    {
     "data": {
      "text/latex": [
       "$\\displaystyle \\frac{e^{k p} \\frac{\\partial}{\\partial z} u{\\left(x,y,z \\right)}}{e^{k p} + e^{k u{\\left(x,y,z \\right)}}}$"
      ],
      "text/plain": [
       "exp(k*p)*Derivative(u(x, y, z), z)/(exp(k*p) + exp(k*u(x, y, z)))"
      ]
     },
     "execution_count": 9,
     "metadata": {},
     "output_type": "execute_result"
    }
   ],
   "source": [
    "sp.diff(z).simplify()"
   ]
  },
  {
   "cell_type": "markdown",
   "metadata": {},
   "source": [
    "<h2>Seuillage</h2>"
   ]
  },
  {
   "cell_type": "markdown",
   "metadata": {},
   "source": [
    "Soit ss la fonction de seuillage de R³ dans R des variables (x,y,z)"
   ]
  },
  {
   "cell_type": "code",
   "execution_count": 10,
   "metadata": {},
   "outputs": [
    {
     "data": {
      "text/latex": [
       "$\\displaystyle \\frac{\\log{\\left(e^{k p} + e^{k u{\\left(x,y,z \\right)}} \\right)}}{k}$"
      ],
      "text/plain": [
       "log(exp(k*p) + exp(k*u(x, y, z)))/k"
      ]
     },
     "execution_count": 10,
     "metadata": {},
     "output_type": "execute_result"
    }
   ],
   "source": [
    "ss = ln(exp(k*u) + exp(k*p)) / k\n",
    "\n",
    "ss"
   ]
  },
  {
   "cell_type": "markdown",
   "metadata": {},
   "source": [
    "<h3>Calcul du gradient coordonnée par coordonnée</h3>"
   ]
  },
  {
   "cell_type": "code",
   "execution_count": 11,
   "metadata": {},
   "outputs": [
    {
     "data": {
      "text/latex": [
       "$\\displaystyle \\frac{e^{k u{\\left(x,y,z \\right)}} \\frac{\\partial}{\\partial x} u{\\left(x,y,z \\right)}}{e^{k p} + e^{k u{\\left(x,y,z \\right)}}}$"
      ],
      "text/plain": [
       "exp(k*u(x, y, z))*Derivative(u(x, y, z), x)/(exp(k*p) + exp(k*u(x, y, z)))"
      ]
     },
     "execution_count": 11,
     "metadata": {},
     "output_type": "execute_result"
    }
   ],
   "source": [
    "ss.diff(x).simplify()"
   ]
  },
  {
   "cell_type": "code",
   "execution_count": 12,
   "metadata": {},
   "outputs": [
    {
     "data": {
      "text/latex": [
       "$\\displaystyle \\frac{e^{k u{\\left(x,y,z \\right)}} \\frac{\\partial}{\\partial y} u{\\left(x,y,z \\right)}}{e^{k p} + e^{k u{\\left(x,y,z \\right)}}}$"
      ],
      "text/plain": [
       "exp(k*u(x, y, z))*Derivative(u(x, y, z), y)/(exp(k*p) + exp(k*u(x, y, z)))"
      ]
     },
     "execution_count": 12,
     "metadata": {},
     "output_type": "execute_result"
    }
   ],
   "source": [
    "ss.diff(y).simplify()"
   ]
  },
  {
   "cell_type": "code",
   "execution_count": 13,
   "metadata": {},
   "outputs": [
    {
     "data": {
      "text/latex": [
       "$\\displaystyle \\frac{e^{k u{\\left(x,y,z \\right)}} \\frac{\\partial}{\\partial z} u{\\left(x,y,z \\right)}}{e^{k p} + e^{k u{\\left(x,y,z \\right)}}}$"
      ],
      "text/plain": [
       "exp(k*u(x, y, z))*Derivative(u(x, y, z), z)/(exp(k*p) + exp(k*u(x, y, z)))"
      ]
     },
     "execution_count": 13,
     "metadata": {},
     "output_type": "execute_result"
    }
   ],
   "source": [
    "ss.diff(z).simplify()"
   ]
  }
 ],
 "metadata": {
  "interpreter": {
   "hash": "916dbcbb3f70747c44a77c7bcd40155683ae19c65e1c03b4aa3499c5328201f1"
  },
  "kernelspec": {
   "display_name": "Python 3.8.10 64-bit",
   "language": "python",
   "name": "python3"
  },
  "language_info": {
   "codemirror_mode": {
    "name": "ipython",
    "version": 3
   },
   "file_extension": ".py",
   "mimetype": "text/x-python",
   "name": "python",
   "nbconvert_exporter": "python",
   "pygments_lexer": "ipython3",
   "version": "3.8.10"
  },
  "orig_nbformat": 4
 },
 "nbformat": 4,
 "nbformat_minor": 2
}
