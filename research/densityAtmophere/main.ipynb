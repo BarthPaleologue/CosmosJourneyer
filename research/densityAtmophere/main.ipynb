{
 "cells": [
  {
   "cell_type": "markdown",
   "metadata": {},
   "source": [
    "This file is part of CosmosJourneyer\n",
    "\n",
    "Copyright (C) 2024 Barthélemy Paléologue <barth.paleologue@cosmosjourneyer.com>\n",
    "\n",
    "This program is free software: you can redistribute it and/or modify\n",
    "it under the terms of the GNU Affero General Public License as published by\n",
    "the Free Software Foundation, either version 3 of the License, or\n",
    "(at your option) any later version.\n",
    "\n",
    "This program is distributed in the hope that it will be useful,\n",
    "but WITHOUT ANY WARRANTY; without even the implied warranty of\n",
    "MERCHANTABILITY or FITNESS FOR A PARTICULAR PURPOSE.  See the\n",
    "GNU Affero General Public License for more details.\n",
    "\n",
    "You should have received a copy of the GNU Affero General Public License\n",
    "along with this program.  If not, see <https://www.gnu.org/licenses/>."
   ]
  },
  {
   "attachments": {},
   "cell_type": "markdown",
   "metadata": {},
   "source": [
    "The goal is to integrate the density formula in the atmosphere along a given ray of incidence $\\theta$, coming from a point of height $h$."
   ]
  },
  {
   "cell_type": "code",
   "execution_count": 6,
   "metadata": {},
   "outputs": [],
   "source": [
    "from sympy import Symbol, Function, exp, integrate, sin, sqrt"
   ]
  },
  {
   "cell_type": "code",
   "execution_count": 25,
   "metadata": {},
   "outputs": [
    {
     "data": {
      "text/latex": [
       "$\\displaystyle e^{- \\frac{\\left(h + rt\\right) \\sin{\\left(\\theta \\right)}}{\\sin{\\left(\\psi - \\theta \\right)}}}$"
      ],
      "text/plain": [
       " -(h + rt)⋅sin(θ) \n",
       " ─────────────────\n",
       "     sin(ψ - θ)   \n",
       "ℯ                 "
      ]
     },
     "execution_count": 25,
     "metadata": {},
     "output_type": "execute_result"
    }
   ],
   "source": [
    "# integrate the function defined for psi: exp((rt + h)*sin(theta)/(sin(theta - psi)))\n",
    "# from psi = 0 to psi = phi\n",
    "\n",
    "phi = Symbol(\"phi\")\n",
    "psi = Symbol(\"psi\")\n",
    "rt = Symbol(\"rt\")\n",
    "h = Symbol(\"h\")\n",
    "theta = Symbol(\"theta\")\n",
    "\n",
    "# define the function\n",
    "f = exp((rt + h)*sin(theta)/(sin(theta - psi)))\n",
    "\n",
    "f"
   ]
  },
  {
   "cell_type": "code",
   "execution_count": 5,
   "metadata": {},
   "outputs": [
    {
     "data": {
      "text/latex": [
       "$\\displaystyle \\int\\limits_{0}^{\\phi} e^{\\frac{\\left(- h - rt\\right) \\sin{\\left(\\theta \\right)}}{\\sin{\\left(\\psi - \\theta \\right)}}}\\, d\\psi$"
      ],
      "text/plain": [
       "Integral(exp((-h - rt)*sin(theta)/sin(psi - theta)), (psi, 0, phi))"
      ]
     },
     "execution_count": 5,
     "metadata": {},
     "output_type": "execute_result"
    }
   ],
   "source": [
    "integrate(f, (psi, 0, phi)).simplify()"
   ]
  },
  {
   "attachments": {},
   "cell_type": "markdown",
   "metadata": {},
   "source": [
    "The integral has no solution. Only a numerical approximation will do."
   ]
  },
  {
   "cell_type": "code",
   "execution_count": 22,
   "metadata": {},
   "outputs": [
    {
     "data": {
      "text/latex": [
       "$\\displaystyle e^{\\sqrt{a + x^{2}}}$"
      ],
      "text/plain": [
       "    ________\n",
       "   ╱      2 \n",
       " ╲╱  a + x  \n",
       "ℯ           "
      ]
     },
     "execution_count": 22,
     "metadata": {},
     "output_type": "execute_result"
    }
   ],
   "source": [
    "x = Symbol(\"x\")\n",
    "a = Symbol(\"a\")\n",
    "\n",
    "b1 = Symbol(\"b1\")\n",
    "b2 = Symbol(\"b2\")\n",
    "\n",
    "f = exp(sqrt(x ** 2 + a))\n",
    "\n",
    "f"
   ]
  },
  {
   "cell_type": "code",
   "execution_count": 11,
   "metadata": {},
   "outputs": [
    {
     "data": {
      "text/latex": [
       "$\\displaystyle \\int\\limits_{b_{1}}^{b_{2}} e^{\\sqrt{a + x^{2}}}\\, dx$"
      ],
      "text/plain": [
       "b₂                \n",
       "⌠                 \n",
       "⎮      ________   \n",
       "⎮     ╱      2    \n",
       "⎮   ╲╱  a + x     \n",
       "⎮  ℯ            dx\n",
       "⌡                 \n",
       "b₁                "
      ]
     },
     "execution_count": 11,
     "metadata": {},
     "output_type": "execute_result"
    }
   ],
   "source": [
    "integrate(f, (x, b1, b2)).simplify()"
   ]
  }
 ],
 "metadata": {
  "kernelspec": {
   "display_name": "Python 3",
   "language": "python",
   "name": "python3"
  },
  "language_info": {
   "codemirror_mode": {
    "name": "ipython",
    "version": 3
   },
   "file_extension": ".py",
   "mimetype": "text/x-python",
   "name": "python",
   "nbconvert_exporter": "python",
   "pygments_lexer": "ipython3",
   "version": "3.10.7"
  },
  "orig_nbformat": 4,
  "vscode": {
   "interpreter": {
    "hash": "916dbcbb3f70747c44a77c7bcd40155683ae19c65e1c03b4aa3499c5328201f1"
   }
  }
 },
 "nbformat": 4,
 "nbformat_minor": 2
}
