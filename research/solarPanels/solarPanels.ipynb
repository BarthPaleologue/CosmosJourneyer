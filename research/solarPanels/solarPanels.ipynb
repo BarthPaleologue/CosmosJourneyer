{
 "cells": [
  {
   "cell_type": "markdown",
   "metadata": {},
   "source": [
    "# Modeling solar panel surfaces for space stations"
   ]
  },
  {
   "cell_type": "markdown",
   "metadata": {},
   "source": [
    "#### By Barthélemy Paléologue"
   ]
  },
  {
   "cell_type": "markdown",
   "metadata": {},
   "source": [
    "The goal of this document is to create a model of the solar panel area needed to power a space station. With this model, it will be possible to compute the area needed for Cosmos Journeyer's space stations. Multiples factors will be considered, such as the distance between the station and its main star, the station population, the energy consumption per person, the efficiency of the solar panels, and the energy storage capacity. To check the calculations, I will try to calculate the area needed for the international space station (ISS) and compare it with the real data."
   ]
  },
  {
   "cell_type": "markdown",
   "metadata": {},
   "source": [
    "## Energy consumption per capita"
   ]
  },
  {
   "cell_type": "markdown",
   "metadata": {},
   "source": [
    "Estimating the energy consumption per capita in space is not straightfoward as the astronauts onboard ISS do not live the same kind of life as we earthlings. However, we can imagine a future where space stations work very much like towns, with people living their everyday life like we do, in which case we could make an estimate for their consommation."
   ]
  },
  {
   "cell_type": "markdown",
   "metadata": {},
   "source": [
    "As a side note, in the US, the average energy consumption is 80,000 kWh per year per person. This value is higher than the world average."
   ]
  },
  {
   "cell_type": "markdown",
   "metadata": {},
   "source": [
    "To get the consumption in watts rather than kWh, we divide by the number of hours in a year (8760 hours) to get kW and multiply by 1000 to get W."
   ]
  },
  {
   "cell_type": "code",
   "execution_count": 226,
   "metadata": {},
   "outputs": [],
   "source": [
    "def kwh_to_watt(kwh: float) -> float:\n",
    "    return kwh * 1000 / 8760"
   ]
  },
  {
   "cell_type": "markdown",
   "metadata": {},
   "source": [
    "For the ISS, we will simply use an energy consumption per capita equal to the ratio of the total energy expanded by the number of crew. According to https://www.edn.com/international-space-station-iss-power-system/, the ISS uses 90kw of power to sustain its systems online, with a crew of 7 people in average."
   ]
  },
  {
   "cell_type": "code",
   "execution_count": 227,
   "metadata": {},
   "outputs": [],
   "source": [
    "energy_consumption_per_capita = 90_000 / 7\n",
    "\n",
    "def get_total_population_consumption_watt(population: int) -> float:\n",
    "    return float(population) * energy_consumption_per_capita"
   ]
  },
  {
   "cell_type": "markdown",
   "metadata": {},
   "source": [
    "## Solar panel efficiency"
   ]
  },
  {
   "cell_type": "markdown",
   "metadata": {},
   "source": [
    "In theory the ISS generates can generate up to 240kw of energy with its 2500m² of solar panels. However, given a solar energy flux of 1360 W/m², we could theoritically extract 3,400kw from 2500m² of solar panels.\n",
    "\n",
    "This gives us an efficiency of 7% for the ISS solar panels. In theory, space based solar power can go up to about 40% efficiency, so this setting can be adjusted when taking into account future technologies."
   ]
  },
  {
   "cell_type": "code",
   "execution_count": 228,
   "metadata": {},
   "outputs": [],
   "source": [
    "solar_panel_efficiency = 0.07"
   ]
  },
  {
   "cell_type": "markdown",
   "metadata": {},
   "source": [
    "Additionaly, the solar panels are not always lit by the sun. We can divide our efficiency by about 2.5 to account for the time the station is not facing the sun."
   ]
  },
  {
   "cell_type": "code",
   "execution_count": 229,
   "metadata": {},
   "outputs": [],
   "source": [
    "solar_panel_efficiency /= 2.5"
   ]
  },
  {
   "cell_type": "markdown",
   "metadata": {},
   "source": [
    "## Energy recieved from Star"
   ]
  },
  {
   "cell_type": "markdown",
   "metadata": {},
   "source": [
    "The energy flux emitted by the star can be obtained using Stefan-Boltzmann's law to compute the energy per unit of surface:\n",
    "\n",
    "$$ \\Phi_{star} = \\sigma T^4 $$\n",
    "\n",
    "Where $\\sigma$ is the Stefan-Boltzmann constant, $5.67 \\times 10^{-8} W m^{-2} K^{-4}$, and $T$ is the temperature of the star in Kelvin. For the Sun, $T = 5778 K$.\n",
    "\n",
    "The result is expressed in $W m^{-2}$."
   ]
  },
  {
   "cell_type": "markdown",
   "metadata": {},
   "source": [
    "In order to get the total energy emitted by the star in Watts, we multiply the flux by the radius of the star."
   ]
  },
  {
   "cell_type": "code",
   "execution_count": 230,
   "metadata": {},
   "outputs": [],
   "source": [
    "import math\n",
    "\n",
    "def get_total_star_energy_watt(star_temperature: float, star_radius: float) -> float:\n",
    "    return 4 * math.pi * 5.67e-8 * star_radius ** 2 * star_temperature ** 4"
   ]
  },
  {
   "cell_type": "markdown",
   "metadata": {},
   "source": [
    "The solar panel only recieves a fraction from this energy, we can compute the energy per unit of surface ($Wm^{-2}$) at a given distance of the star $D$ by dividing the total energy emitted by the surface of the sphere of radius $D$ (the energy is spread evenly on a larger sphere as you go further)."
   ]
  },
  {
   "cell_type": "code",
   "execution_count": 231,
   "metadata": {},
   "outputs": [],
   "source": [
    "def get_energy_flux_received(distance: float, star_temperature: float, star_radius: float) -> float:\n",
    "    return get_total_star_energy_watt(star_temperature, star_radius) / (4 * math.pi * distance ** 2)"
   ]
  },
  {
   "cell_type": "markdown",
   "metadata": {},
   "source": [
    "## Putting it all together"
   ]
  },
  {
   "cell_type": "markdown",
   "metadata": {},
   "source": [
    "Now that we have all of this, we can make an estimate of the solar panel surface area needed to power the ISS!"
   ]
  },
  {
   "cell_type": "markdown",
   "metadata": {},
   "source": [
    "### Star settings"
   ]
  },
  {
   "cell_type": "markdown",
   "metadata": {},
   "source": [
    "For this we will directly use the data from the sun"
   ]
  },
  {
   "cell_type": "code",
   "execution_count": 232,
   "metadata": {},
   "outputs": [],
   "source": [
    "star_temperature = 5778\n",
    "star_radius = 6.9634e8"
   ]
  },
  {
   "cell_type": "markdown",
   "metadata": {},
   "source": [
    "### Station settings:"
   ]
  },
  {
   "cell_type": "markdown",
   "metadata": {},
   "source": [
    "As ISS orbits around Earth, we can approximate its distance to the sun by using the distance between the Earth and the Sun. Additionaly the crew of the ISS is 7."
   ]
  },
  {
   "cell_type": "code",
   "execution_count": 233,
   "metadata": {},
   "outputs": [],
   "source": [
    "distance_to_star = 1.496e11\n",
    "station_population = 7"
   ]
  },
  {
   "cell_type": "markdown",
   "metadata": {},
   "source": [
    "Finally, we can compute the necessary solar panel area to power the station."
   ]
  },
  {
   "cell_type": "code",
   "execution_count": 234,
   "metadata": {},
   "outputs": [
    {
     "name": "stdout",
     "output_type": "stream",
     "text": [
      "Energy needed: 90000.0 W\n",
      "Energy flux received from the star: 1369.2183416438243 W/m^2\n",
      "Solar panel efficiency: 0.028000000000000004\n",
      "Area needed: 2347.5333455048385 m^2\n"
     ]
    }
   ],
   "source": [
    "def compute_required_area(population: int, solar_panel_efficiency: float, distance_to_star: float, star_temperature: float, star_radius: float) -> float:\n",
    "    energy_needed = get_total_population_consumption_watt(population)\n",
    "    print(f\"Energy needed: {energy_needed} W\")\n",
    "\n",
    "    energy_flux_received = get_energy_flux_received(distance_to_star, star_temperature, star_radius)\n",
    "    print(f\"Energy flux received from the star: {energy_flux_received} W/m^2\")\n",
    "\n",
    "    print(f\"Solar panel efficiency: {solar_panel_efficiency}\")\n",
    "\n",
    "    area_needed = energy_needed / (energy_flux_received * solar_panel_efficiency)\n",
    "\n",
    "    return area_needed\n",
    "\n",
    "area_needed = compute_required_area(station_population, solar_panel_efficiency, distance_to_star, star_temperature, star_radius)\n",
    "\n",
    "print(f\"Area needed: {area_needed} m^2\")"
   ]
  },
  {
   "cell_type": "markdown",
   "metadata": {},
   "source": [
    "According to https://www.nasa.gov/image-article/solar-arrays-international-space-station/, the ISS has 2500m² of solar panels. We are very close!"
   ]
  },
  {
   "cell_type": "markdown",
   "metadata": {},
   "source": [
    "## Putting Nantes in space"
   ]
  },
  {
   "cell_type": "markdown",
   "metadata": {},
   "source": [
    "Now we can make the calculation for a bigger station, the size of an entire city! I spent most of my childhood years in Nantes, a very nice city to the west of France. There is a huge debate to decide if Nantes is part of Bretagne or not, so I am going to settle the debate. Nantes is not in Bretagne, nor it is in Pays de la Loire. From now on Nantes will be in spaaaace!"
   ]
  },
  {
   "cell_type": "markdown",
   "metadata": {},
   "source": [
    "For the sake of simplicity, we will assume a station in Earth orbit, so we will reuse the star parameters from earlier."
   ]
  },
  {
   "cell_type": "markdown",
   "metadata": {},
   "source": [
    "We only have to tweak the station population and the average consumption of its citizens. In France, the average energetic consumption is 40 000 kwh. As the station must power its life support, which is not necessary on Earth (yet!), we will increase than number to 50 000 kwh, which is a bit arbitrary but we have to start somewhere."
   ]
  },
  {
   "cell_type": "markdown",
   "metadata": {},
   "source": [
    "Additionnaly, we can have a higher efficiency with our solar panels (up to 40%) thanks to new advances in solar panel technology. We still need to account for time spend in the dark with the division by 2.5"
   ]
  },
  {
   "cell_type": "code",
   "execution_count": 235,
   "metadata": {},
   "outputs": [
    {
     "name": "stdout",
     "output_type": "stream",
     "text": [
      "Energy needed: 1844771689.497717 W\n",
      "Energy flux received from the star: 1369.2183416438243 W/m^2\n",
      "Solar panel efficiency: 0.16\n",
      "Area needed: 8420733.719881758 m^2\n"
     ]
    }
   ],
   "source": [
    "station_population = 323_204\n",
    "energy_consumption_per_capita = kwh_to_watt(50_000)\n",
    "solar_panel_efficiency = 0.4 / 2.5\n",
    "\n",
    "\n",
    "area_needed = compute_required_area(station_population, solar_panel_efficiency, distance_to_star, star_temperature, star_radius)\n",
    "\n",
    "print(f\"Area needed: {area_needed} m^2\")"
   ]
  },
  {
   "cell_type": "markdown",
   "metadata": {},
   "source": [
    "## Conclusion & Limitations"
   ]
  },
  {
   "cell_type": "markdown",
   "metadata": {},
   "source": [
    "We now have a model to compute the solar panel area needed to sustain a given population in a space station. This model is not perfect because it does not account for energy efficiency inside the space station. On the ISS, this is not really an issue because the station is relatively small and its grid uses direct current.\n",
    "\n",
    "On a larger station the size of Nantes, we should definitely take into account the energy efficiency of the grid: not 100% of the electricity produced will be available for the end users.\n",
    "\n",
    "Overall this model is a good first step in order to create grounded procedural space stations in Cosmos Journeyer."
   ]
  }
 ],
 "metadata": {
  "language_info": {
   "name": "python"
  }
 },
 "nbformat": 4,
 "nbformat_minor": 2
}
