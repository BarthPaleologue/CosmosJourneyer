{
 "cells": [
  {
   "cell_type": "markdown",
   "metadata": {},
   "source": [
    "<h1>Calcul du gradient du produit de deux fonctions différentiables de R³ dans R</h1>"
   ]
  },
  {
   "cell_type": "code",
   "execution_count": 1,
   "metadata": {},
   "outputs": [],
   "source": [
    "from sympy import Symbol, Function"
   ]
  },
  {
   "cell_type": "code",
   "execution_count": 2,
   "metadata": {},
   "outputs": [
    {
     "data": {
      "text/latex": [
       "$\\displaystyle u{\\left(x,y,z \\right)} v{\\left(x,y,z \\right)}$"
      ],
      "text/plain": [
       "u(x, y, z)*v(x, y, z)"
      ]
     },
     "execution_count": 2,
     "metadata": {},
     "output_type": "execute_result"
    }
   ],
   "source": [
    "x = Symbol(\"x\")\n",
    "y = Symbol(\"y\")\n",
    "z = Symbol(\"z\")\n",
    "\n",
    "u = Function(\"u\")(x, y, z)\n",
    "v = Function(\"v\")(x, y, z)\n",
    "\n",
    "s = u * v\n",
    "s"
   ]
  },
  {
   "cell_type": "markdown",
   "metadata": {},
   "source": [
    "<h2>Calcul du gradient coordonnée par coordonnée</h2>"
   ]
  },
  {
   "cell_type": "code",
   "execution_count": 3,
   "metadata": {},
   "outputs": [
    {
     "data": {
      "text/latex": [
       "$\\displaystyle u{\\left(x,y,z \\right)} \\frac{\\partial}{\\partial x} v{\\left(x,y,z \\right)} + v{\\left(x,y,z \\right)} \\frac{\\partial}{\\partial x} u{\\left(x,y,z \\right)}$"
      ],
      "text/plain": [
       "u(x, y, z)*Derivative(v(x, y, z), x) + v(x, y, z)*Derivative(u(x, y, z), x)"
      ]
     },
     "execution_count": 3,
     "metadata": {},
     "output_type": "execute_result"
    }
   ],
   "source": [
    "s.diff(x).simplify()"
   ]
  },
  {
   "cell_type": "code",
   "execution_count": 4,
   "metadata": {},
   "outputs": [
    {
     "data": {
      "text/latex": [
       "$\\displaystyle u{\\left(x,y,z \\right)} \\frac{\\partial}{\\partial y} v{\\left(x,y,z \\right)} + v{\\left(x,y,z \\right)} \\frac{\\partial}{\\partial y} u{\\left(x,y,z \\right)}$"
      ],
      "text/plain": [
       "u(x, y, z)*Derivative(v(x, y, z), y) + v(x, y, z)*Derivative(u(x, y, z), y)"
      ]
     },
     "execution_count": 4,
     "metadata": {},
     "output_type": "execute_result"
    }
   ],
   "source": [
    "s.diff(y).simplify()"
   ]
  },
  {
   "cell_type": "code",
   "execution_count": 5,
   "metadata": {},
   "outputs": [
    {
     "data": {
      "text/latex": [
       "$\\displaystyle u{\\left(x,y,z \\right)} \\frac{\\partial}{\\partial z} v{\\left(x,y,z \\right)} + v{\\left(x,y,z \\right)} \\frac{\\partial}{\\partial z} u{\\left(x,y,z \\right)}$"
      ],
      "text/plain": [
       "u(x, y, z)*Derivative(v(x, y, z), z) + v(x, y, z)*Derivative(u(x, y, z), z)"
      ]
     },
     "execution_count": 5,
     "metadata": {},
     "output_type": "execute_result"
    }
   ],
   "source": [
    "s.diff(z).simplify()"
   ]
  },
  {
   "cell_type": "code",
   "execution_count": null,
   "metadata": {},
   "outputs": [],
   "source": []
  }
 ],
 "metadata": {
  "interpreter": {
   "hash": "31f2aee4e71d21fbe5cf8b01ff0e069b9275f58929596ceb00d14d90e3e16cd6"
  },
  "kernelspec": {
   "display_name": "Python 3.8.10 64-bit",
   "language": "python",
   "name": "python3"
  },
  "language_info": {
   "codemirror_mode": {
    "name": "ipython",
    "version": 3
   },
   "file_extension": ".py",
   "mimetype": "text/x-python",
   "name": "python",
   "nbconvert_exporter": "python",
   "pygments_lexer": "ipython3",
   "version": "3.8.10"
  },
  "orig_nbformat": 4
 },
 "nbformat": 4,
 "nbformat_minor": 2
}
