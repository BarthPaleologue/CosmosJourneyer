{
 "cells": [
  {
   "cell_type": "markdown",
   "metadata": {},
   "source": [
    "<h1>Calcul du gradient de la composition d'un fonction de R avec la tangente hyperbolique d'interpolation</h1>"
   ]
  },
  {
   "cell_type": "markdown",
   "metadata": {},
   "source": [
    "This file is part of CosmosJourneyer\n",
    "\n",
    "Copyright (C) 2024 Barthélemy Paléologue <barth.paleologue@cosmosjourneyer.com>\n",
    "\n",
    "This program is free software: you can redistribute it and/or modify\n",
    "it under the terms of the GNU General Public License as published by\n",
    "the Free Software Foundation, either version 3 of the License, or\n",
    "(at your option) any later version.\n",
    "\n",
    "This program is distributed in the hope that it will be useful,\n",
    "but WITHOUT ANY WARRANTY; without even the implied warranty of\n",
    "MERCHANTABILITY or FITNESS FOR A PARTICULAR PURPOSE.  See the\n",
    "GNU General Public License for more details.\n",
    "\n",
    "You should have received a copy of the GNU General Public License\n",
    "along with this program.  If not, see <https://www.gnu.org/licenses/>."
   ]
  },
  {
   "cell_type": "code",
   "execution_count": 6,
   "metadata": {},
   "outputs": [],
   "source": [
    "from sympy import Symbol, tanh, Function\n",
    "#https://www.desmos.com/calculator/f8koos0txw\n",
    "#https://www.desmos.com/calculator/cpeedjze2l"
   ]
  },
  {
   "cell_type": "code",
   "execution_count": 27,
   "metadata": {},
   "outputs": [
    {
     "data": {
      "text/latex": [
       "$\\displaystyle \\frac{\\tanh{\\left(x \\right)}}{2} + \\frac{1}{2}$"
      ],
      "text/plain": [
       "tanh(x)/2 + 1/2"
      ]
     },
     "execution_count": 27,
     "metadata": {},
     "output_type": "execute_result"
    }
   ],
   "source": [
    "x = Symbol(\"x\")\n",
    "\n",
    "s = Symbol(\"s\")\n",
    "\n",
    "u = Function(\"u\")(x)\n",
    "\n",
    "f = (tanh(x) + 1) / 2\n",
    "\n",
    "f\n"
   ]
  },
  {
   "cell_type": "code",
   "execution_count": 44,
   "metadata": {},
   "outputs": [
    {
     "data": {
      "text/latex": [
       "$\\displaystyle 0.5 + \\frac{0.5 \\tanh{\\left(s \\left(x - 0.5\\right) \\right)}}{\\tanh{\\left(0.5 s \\right)}}$"
      ],
      "text/plain": [
       "0.5 + 0.5*tanh(s*(x - 0.5))/tanh(0.5*s)"
      ]
     },
     "execution_count": 44,
     "metadata": {},
     "output_type": "execute_result"
    }
   ],
   "source": [
    "h = 0.5 * ((f.subs(x, s * (x - 0.5)) - 0.5) / (f.subs(x, (0.5 * s)) - 0.5)) + 0.5\n",
    "\n",
    "h"
   ]
  },
  {
   "cell_type": "markdown",
   "metadata": {},
   "source": [
    "<h2>Calcul du gradient coordonnée par coordonnée</h2>"
   ]
  },
  {
   "cell_type": "code",
   "execution_count": 47,
   "metadata": {},
   "outputs": [
    {
     "data": {
      "text/latex": [
       "$\\displaystyle \\frac{0.5 s \\left(1 - \\tanh^{2}{\\left(s \\left(x - 0.5\\right) \\right)}\\right)}{\\tanh{\\left(0.5 s \\right)}}$"
      ],
      "text/plain": [
       "0.5*s*(1 - tanh(s*(x - 0.5))**2)/tanh(0.5*s)"
      ]
     },
     "execution_count": 47,
     "metadata": {},
     "output_type": "execute_result"
    }
   ],
   "source": [
    "h.diff(x)"
   ]
  }
 ],
 "metadata": {
  "interpreter": {
   "hash": "916dbcbb3f70747c44a77c7bcd40155683ae19c65e1c03b4aa3499c5328201f1"
  },
  "kernelspec": {
   "display_name": "Python 3.8.10 64-bit",
   "language": "python",
   "name": "python3"
  },
  "language_info": {
   "codemirror_mode": {
    "name": "ipython",
    "version": 3
   },
   "file_extension": ".py",
   "mimetype": "text/x-python",
   "name": "python",
   "nbconvert_exporter": "python",
   "pygments_lexer": "ipython3",
   "version": "3.8.10"
  },
  "orig_nbformat": 4
 },
 "nbformat": 4,
 "nbformat_minor": 2
}
